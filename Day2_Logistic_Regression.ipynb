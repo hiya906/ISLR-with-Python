{
  "nbformat": 4,
  "nbformat_minor": 0,
  "metadata": {
    "colab": {
      "name": "Day2. Logistic Regression.ipynb",
      "version": "0.3.2",
      "provenance": [],
      "collapsed_sections": [],
      "toc_visible": true,
      "include_colab_link": true
    },
    "kernelspec": {
      "name": "python3",
      "display_name": "Python 3"
    }
  },
  "cells": [
    {
      "cell_type": "markdown",
      "metadata": {
        "id": "view-in-github",
        "colab_type": "text"
      },
      "source": [
        "<a href=\"https://colab.research.google.com/github/hiya906/ISLR-with-Python/blob/master/Day2_Logistic_Regression.ipynb\" target=\"_parent\"><img src=\"https://colab.research.google.com/assets/colab-badge.svg\" alt=\"Open In Colab\"/></a>"
      ]
    },
    {
      "cell_type": "markdown",
      "metadata": {
        "id": "cyqq7DFfuRXd",
        "colab_type": "text"
      },
      "source": [
        "# **사용법**\n",
        "\n",
        "1.   우측 상단 '로그인'\n",
        "2.   좌측 상단 '실습 모드에서 열기'\n",
        "\n",
        "\n",
        "※ 각각의 셀은 셀 좌측 상단 실행 버튼을 통해 실행할 수 있습니다.\n",
        "\n",
        "※ 실행 중 '경고: 이 노트는 Google에서 작성하지 않았습니다.'라는 창이 뜰 경우, '실행 전에 모든 런타임 재설정'란에 체크 후 '무시하고 계속하기'를 하시면 됩니다."
      ]
    },
    {
      "cell_type": "code",
      "metadata": {
        "id": "KIV8iSKBhz5d",
        "colab_type": "code",
        "colab": {}
      },
      "source": [
        "# 데이터를 관리하기 위해서 폴더를 생성하기 위한 코드입니다\n",
        "import os\n",
        "\n",
        "os.mkdir('./data')"
      ],
      "execution_count": 0,
      "outputs": []
    },
    {
      "cell_type": "markdown",
      "metadata": {
        "id": "dV6rMy-du32V",
        "colab_type": "text"
      },
      "source": [
        "# Logistic Regression by Numpy\n",
        "\n"
      ]
    },
    {
      "cell_type": "markdown",
      "metadata": {
        "id": "Z5rZ-h4mxTNV",
        "colab_type": "text"
      },
      "source": [
        "# 실습1: Logistic Regression with Titanic data"
      ]
    },
    {
      "cell_type": "code",
      "metadata": {
        "id": "6iiU9W3axqMn",
        "colab_type": "code",
        "cellView": "both",
        "colab": {}
      },
      "source": [
        "#@title 필요 Package Import \n",
        "\n",
        "import os                            # 데이터 파일 경로 설정\n",
        "import csv                           # 데이터 파일 로드\n",
        "import numpy as np                   # numpy 행렬 조작\n",
        "import matplotlib.pyplot as plt      # 그래프 그리기(선택 사항)\n",
        "\n",
        "np.random.seed(123)"
      ],
      "execution_count": 0,
      "outputs": []
    },
    {
      "cell_type": "code",
      "metadata": {
        "id": "K30sqQtnzq4g",
        "colab_type": "code",
        "cellView": "form",
        "colab": {}
      },
      "source": [
        "#@title 데이터 준비\n",
        "\n",
        "def Titanic_Dataset(path, filename):\n",
        "    file = os.path.join(path, filename)\n",
        "\n",
        "    with open(file, 'r') as f:\n",
        "        csv_reader = csv.reader(f)                  # 파일 로드\n",
        "        header = next(csv_reader)\n",
        "\n",
        "        x_data = []\n",
        "        y_data = []\n",
        "        for line in csv_reader:\n",
        "            features = line[1:]\n",
        "            x = [1] + list(map(float, features))    # x_data에 bias를 위한 1추가\n",
        "            y = float(line[0])\n",
        "\n",
        "            x_data.append(x)\n",
        "            y_data.append(y)\n",
        "\n",
        "        x_array = np.array(x_data)\n",
        "        y_array = np.array(y_data)\n",
        "\n",
        "    return header, x_array, y_array"
      ],
      "execution_count": 0,
      "outputs": []
    },
    {
      "cell_type": "markdown",
      "metadata": {
        "id": "opVsUXxj3S7o",
        "colab_type": "text"
      },
      "source": [
        "# Logistic Regression Class 선언\n",
        "\n",
        "1.   __init__\n",
        "\n",
        "\n",
        "> *   인자: 모델 설정 \n",
        "*   출력: x\n",
        "*   기능: 모델 초기화\n",
        "\n",
        "> weight *W*를 random하게 initialization\n",
        "\n",
        "\n",
        "2.   __train__\n",
        "\n",
        "\n",
        "> *   입력: 학습데이터, 학습 설정\n",
        "*   출력: Loss \n",
        "*   기능: 데이터로 모델 학습\n",
        "\n",
        "> 매 epoch마다 전체 데이터에 대해 loss, grad 계산하여 학습\n",
        "\n",
        "\n",
        "3. __eval__\n",
        "\n",
        "> *   입력: 검증 데이터\n",
        "*   출력: 모델의 예측값\n",
        "*   기능: train로 학습된 모델로 검증, 예측값 생성\n",
        "\n",
        "> 검증 데이터에 대해 분류 예측 결과 산출 \n",
        "\n",
        "4. ___sigmoid__\n",
        "\n",
        "> *   입력: 실수형 numpy array\n",
        "*   출력: sigmoid를 취한 array\n",
        "*   기능: 주어진 array에 대한 모든 sigmoid 값 계산\n",
        "\n",
        "> $sigmoid(x) =\\frac{1}{ 1+e^{-(x)}}$\n",
        "\n",
        "\n",
        "\n"
      ]
    },
    {
      "cell_type": "code",
      "metadata": {
        "id": "7zABdKBI5NGh",
        "colab_type": "code",
        "cellView": "form",
        "colab": {}
      },
      "source": [
        "#@title 모델 생성\n",
        "class LogisticRegression:\n",
        "  def __init__(self, num_features):\n",
        "    self.W = None\n",
        "    # =====   Edit here ======\n",
        "    pass\n",
        "    # ========================\n",
        "  \n",
        "  \n",
        "  def train(self, train_x, train_y, num_epochs, learning_rate):\n",
        "    epsilon = 1e-10\n",
        "    loss_memory = []\n",
        "    train_y = np.expand_dims(train_y, 1)\n",
        "    # ====================== 아래에 코드를 작성해주세요 ======================\n",
        "    \n",
        "    for epoch in range(num_epochs):\n",
        "      # 1-1. logit 계산\n",
        "      #logit = ?\n",
        "\n",
        "      # 1-2. sigmoid 적용\n",
        "      #prob = ?\n",
        "\n",
        "      # 1-3. Error 및 Loss 계산\n",
        "      #error = ?\n",
        "      #loss = ?\n",
        "      # print(loss)\n",
        "      \n",
        "      # 1-4. Loss ‘loss_memory’에 추가\n",
        "      loss_memory.append(loss)\n",
        "\n",
        "      # 1-5. Gradient 계산\n",
        "      #grad = ?\n",
        "\n",
        "      # 1-6. Weight Update\n",
        "      #self.W <- ?? \n",
        "    # =========================\n",
        "    return loss_memory\n",
        "    \n",
        "  def predict(self, test_x):\n",
        "    \n",
        "    # =====   Edit here  ======\n",
        "    pass\n",
        "    # =========================\n",
        "    \n",
        "    return pred\n",
        "  \n",
        "def Accuracy(prob, true):\n",
        "  Acc = 0\n",
        "  #Acc 계산\n",
        "  \n",
        "  # =====   Edit here  ======\n",
        "  pass\n",
        "  # =========================\n",
        "\n",
        "  return Acc"
      ],
      "execution_count": 0,
      "outputs": []
    },
    {
      "cell_type": "code",
      "metadata": {
        "id": "sGjGL5rb6yW3",
        "colab_type": "code",
        "cellView": "form",
        "colab": {}
      },
      "source": [
        "#@title 모델 학습\n",
        "num_epochs = 1000\n",
        "learning_rate = 1e-3\n",
        "\n",
        "\n",
        "header, train_x, train_y = Titanic_Dataset('./data', 'Titanic_Train.csv')\n",
        "num_data, num_features = train_x.shape\n",
        "\n",
        "model = LogisticRegression(num_features)\n",
        "loss_memory = model.train(train_x, train_y, num_epochs, learning_rate)"
      ],
      "execution_count": 0,
      "outputs": []
    },
    {
      "cell_type": "code",
      "metadata": {
        "id": "nxvkpeIl7ASw",
        "colab_type": "code",
        "cellView": "form",
        "colab": {}
      },
      "source": [
        "#@title 모델 평가\n",
        "\n",
        "_, test_x, test_y = Titanic_Dataset('./data', 'Titanic_Test.csv')\n",
        "pred = model.predict(test_x)\n",
        "acc = Accuracy(pred, test_y)\n",
        "\n",
        "print('Accuracy: ', acc)"
      ],
      "execution_count": 0,
      "outputs": []
    },
    {
      "cell_type": "code",
      "metadata": {
        "id": "PMOeMD-JoBqr",
        "colab_type": "code",
        "cellView": "form",
        "colab": {}
      },
      "source": [
        "#@title 정답 코드\n",
        "class LogisticRegression:\n",
        "  def __init__(self, num_features):\n",
        "      self.W = np.random.rand(num_features, 1) * 0.01\n",
        "\n",
        "  def train(self, train_x, train_y, num_epochs, learning_rate):\n",
        "\n",
        "      epsilon = 1e-10\n",
        "      loss_memory = []\n",
        "      train_y = np.expand_dims(train_y, 1)\n",
        "\n",
        "      for epoch in range(num_epochs):\n",
        "          # ====================== 아래에 코드를 작성해주세요 ======================\n",
        "          # 1-1. logit 계산\n",
        "          logit = np.matmul(train_x, self.W)\n",
        "\n",
        "          # 1-2. sigmoid 적용\n",
        "          prob = self._sigmoid(logit)\n",
        "\n",
        "          # 1-3. Error 및 Loss 계산\n",
        "          error = prob - train_y\n",
        "\n",
        "          loss = train_y * np.log(prob + epsilon) + (1 - train_y) * np.log(1 - prob + epsilon)\n",
        "          loss = - np.sum(loss)\n",
        "\n",
        "\n",
        "          # print(loss)\n",
        "          # 1-4. Loss ‘loss_memory’에 추가\n",
        "          loss_memory.append(loss)\n",
        "\n",
        "          # 1-5. Gradient 계산\n",
        "          grad = np.mean(train_x * error, axis=0, keepdims=True).T\n",
        "\n",
        "          # 1-6. Weight Update\n",
        "          self.W -= grad * learning_rate\n",
        "          # ==================================================================\n",
        "\n",
        "      # 2. ‘loss_memory’ 반환\n",
        "      return loss_memory\n",
        "\n",
        "\n",
        "  def predict(self, test_x):\n",
        "      prob = self._sigmoid(np.matmul(test_x, self.W))\n",
        "\n",
        "      return prob\n",
        "\n",
        "  def _sigmoid(self, x):\n",
        "      return 1 / (1 + np.exp(-x))\n",
        "      \n",
        "def Accuracy(prob, true):\n",
        "  Acc = 0\n",
        "  \n",
        "  #Acc 계산\n",
        "  pred = np.round(prob, 0)\n",
        "  correct = np.sum(pred.squeeze() == true.squeeze())\n",
        "  num_data = pred.shape[0]\n",
        "\n",
        "  Acc = correct / num_data\n",
        "\n",
        "  return Acc"
      ],
      "execution_count": 0,
      "outputs": []
    },
    {
      "cell_type": "markdown",
      "metadata": {
        "id": "gb1xNE580xLB",
        "colab_type": "text"
      },
      "source": [
        "# 실습2: Logistic Regression with Iris data"
      ]
    },
    {
      "cell_type": "code",
      "metadata": {
        "id": "LHBXvY091wul",
        "colab_type": "code",
        "cellView": "form",
        "colab": {}
      },
      "source": [
        "#@title 필요 Package import\n",
        "import os\n",
        "import csv\n",
        "import numpy as np\n",
        "import matplotlib.pyplot as plt\n",
        "\n",
        "np.random.seed(123)"
      ],
      "execution_count": 0,
      "outputs": []
    },
    {
      "cell_type": "code",
      "metadata": {
        "id": "uVpucGNc3VOS",
        "colab_type": "code",
        "cellView": "form",
        "colab": {}
      },
      "source": [
        "#@title 데이터 준비\n",
        "def Iris_Dataset(path, filename):\n",
        "    file = os.path.join(path, filename)\n",
        "\n",
        "    with open(file, 'r') as f:\n",
        "        csv_reader = csv.reader(f)\n",
        "        header = next(csv_reader)\n",
        "\n",
        "        x_data = []\n",
        "        y_data = []\n",
        "        for line in csv_reader:\n",
        "\n",
        "            features = line[:-1]\n",
        "            x = [1] + list(map(float, features))\n",
        "            y = float(line[-1])\n",
        "\n",
        "            x_data.append(x)\n",
        "            y_data.append(y)\n",
        "\n",
        "        x_array = np.array(x_data)\n",
        "        y_array = np.array(y_data)\n",
        "\n",
        "        return header, x_array, y_array"
      ],
      "execution_count": 0,
      "outputs": []
    },
    {
      "cell_type": "code",
      "metadata": {
        "id": "C1CRIAFF3j-_",
        "colab_type": "code",
        "cellView": "form",
        "colab": {}
      },
      "source": [
        "#@title 모델 학습\n",
        "num_epochs = 10000\n",
        "learning_rate = 1e-2\n",
        "\n",
        "header, train_x, train_y = Iris_Dataset('./data', 'Iris_Train.csv')\n",
        "\n",
        "num_data, num_features = train_x.shape\n",
        "model = LogisticRegression(num_features)\n",
        "\n",
        "loss_memory = model.train(train_x, train_y, num_epochs, learning_rate)"
      ],
      "execution_count": 0,
      "outputs": []
    },
    {
      "cell_type": "code",
      "metadata": {
        "id": "aHua6mI45Wu9",
        "colab_type": "code",
        "cellView": "form",
        "colab": {}
      },
      "source": [
        "#@title 모델 평가\n",
        "_, test_x, test_y = Iris_Dataset('./data', 'Iris_Test.csv')\n",
        "\n",
        "pred = model.predict(test_x)\n",
        "accuracy = Accuracy(pred, test_y)\n",
        "\n",
        "print('Accuracy : ', accuracy)"
      ],
      "execution_count": 0,
      "outputs": []
    },
    {
      "cell_type": "code",
      "metadata": {
        "id": "PII_E5Nx5cdm",
        "colab_type": "code",
        "cellView": "form",
        "colab": {}
      },
      "source": [
        "#@title 그래프 표현\n",
        "is_virginica_x = test_x[test_y == 1]\n",
        "is_virginica_y = test_y[test_y == 1]\n",
        "\n",
        "not_virginica_x = test_x[test_y == 0]\n",
        "not_virginica_y = test_y[test_y == 0]\n",
        "\n",
        "\n",
        "plot_feat = np.linspace(0, 3, 100).reshape(-1, 1)\n",
        "plot_bias = np.ones_like(plot_feat)\n",
        "\n",
        "plot_x = np.concatenate((plot_bias, plot_feat), axis=1)\n",
        "plot_prob = model.predict(plot_x)\n",
        "\n",
        "plt.scatter(is_virginica_x[:, 1], is_virginica_y, color='b', label='Iris-Virginica')\n",
        "plt.scatter(not_virginica_x[:, 1], not_virginica_y, color='r', label='Not Iris-Verginica')\n",
        "plt.plot(plot_feat, plot_prob, 'g-', label='Hypothesis')\n",
        "\n",
        "plt.xlabel(\"Petal width\", fontsize=14)\n",
        "plt.ylabel(\"Probability\", fontsize=14)\n",
        "plt.legend(loc=\"upper left\", fontsize=14)\n",
        "plt.show()"
      ],
      "execution_count": 0,
      "outputs": []
    },
    {
      "cell_type": "markdown",
      "metadata": {
        "id": "MQjk7ZaH6epP",
        "colab_type": "text"
      },
      "source": [
        "# 실습3: Logistic Regression with Tensorflow "
      ]
    },
    {
      "cell_type": "code",
      "metadata": {
        "id": "bBmq-AMF8NGg",
        "colab_type": "code",
        "cellView": "form",
        "colab": {}
      },
      "source": [
        "#@title 필요 Package import\n",
        "\n",
        "import os\n",
        "import csv\n",
        "import numpy as np\n",
        "import tensorflow as tf\n",
        "\n",
        "tf.random.set_random_seed(100)"
      ],
      "execution_count": 0,
      "outputs": []
    },
    {
      "cell_type": "code",
      "metadata": {
        "id": "F-E6DYil93LY",
        "colab_type": "code",
        "cellView": "form",
        "colab": {}
      },
      "source": [
        "#@title 데이터 준비\n",
        "\n",
        "num_epochs = 2000\n",
        "learning_rate = 1e-3\n",
        "\n",
        "header, train_x, train_y = Titanic_Dataset('./data', 'Titanic_Train.csv')\n",
        "_, test_x, test_y = Titanic_Dataset('./data', 'Titanic_Test.csv')\n",
        "\n",
        "num_data, num_features = train_x.shape\n"
      ],
      "execution_count": 0,
      "outputs": []
    },
    {
      "cell_type": "code",
      "metadata": {
        "id": "nL9NtcPl-NPh",
        "colab_type": "code",
        "cellView": "form",
        "colab": {}
      },
      "source": [
        "#@title 모델 생성\n",
        "\n",
        "X = tf.placeholder(tf.float32, shape=[None, num_features])\n",
        "Y = tf.placeholder(tf.float32, shape=[None])\n",
        "\n",
        "W = tf.Variable(tf.random_normal([num_features, 1]), name='weight')\n",
        "b = tf.Variable(tf.random_normal([1]), name='bias')\n",
        "\n",
        "# model prediction \n",
        "logit = tf.matmul(X, W) + b\n",
        "prob = tf.sigmoid(logit)\n",
        "\n",
        "# Loss 및 학습법 정의\n",
        "epsilon = 1e-10\n",
        "loss = -tf.reduce_mean(Y * tf.log(prob + epsilon) + (1 - Y)*tf.log((1-prob) + epsilon))\n",
        "train = tf.train.GradientDescentOptimizer(learning_rate= learning_rate).minimize(loss)\n",
        "\n",
        "#평가 방법\n",
        "pred = tf.cast(prob > 0.5, dtype=tf.float32)\n",
        "correct = tf.cast(tf.equal(pred, Y), dtype=tf.float32)\n",
        "Accuracy = tf.reduce_mean(correct)"
      ],
      "execution_count": 0,
      "outputs": []
    },
    {
      "cell_type": "code",
      "metadata": {
        "id": "DEgaucyc-34g",
        "colab_type": "code",
        "cellView": "form",
        "colab": {}
      },
      "source": [
        "#@title 모델 학습\n",
        "\n",
        "sess = tf.Session()\n",
        "sess.run(tf.global_variables_initializer())\n",
        "\n",
        "for step in range(1, num_epochs+1):\n",
        "    loss_val, training = sess.run([loss, train], feed_dict={X: train_x, Y: train_y})\n",
        "\n",
        "    if step % 100 == 0:\n",
        "        print('step: ', step, 'loss: ', loss_val)"
      ],
      "execution_count": 0,
      "outputs": []
    },
    {
      "cell_type": "code",
      "metadata": {
        "id": "3soL8pMo-pPA",
        "colab_type": "code",
        "cellView": "form",
        "colab": {}
      },
      "source": [
        "#@title 모델 평가\n",
        "_prob, _pred, _accuracy = sess.run([prob, pred, Accuracy], feed_dict={X: test_x, Y:test_y})\n",
        "print('logit: ', _prob[:10], '\\nAccuracy: ', _accuracy)\n",
        "sess.close()\n"
      ],
      "execution_count": 0,
      "outputs": []
    },
    {
      "cell_type": "markdown",
      "metadata": {
        "id": "7aCjm2BNHc5c",
        "colab_type": "text"
      },
      "source": [
        "# Appendix: And OR Gate 구현하기"
      ]
    },
    {
      "cell_type": "code",
      "metadata": {
        "id": "erU6IJ1OHp8D",
        "colab_type": "code",
        "colab": {}
      },
      "source": [
        ""
      ],
      "execution_count": 0,
      "outputs": []
    }
  ]
}